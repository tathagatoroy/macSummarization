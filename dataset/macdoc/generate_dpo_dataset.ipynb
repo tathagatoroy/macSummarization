{
 "cells": [
  {
   "cell_type": "code",
   "execution_count": 1,
   "metadata": {},
   "outputs": [],
   "source": [
    "import json\n",
    "import tqdm \n",
    "import os\n",
    "import sys "
   ]
  },
  {
   "cell_type": "code",
   "execution_count": 4,
   "metadata": {},
   "outputs": [],
   "source": [
    "train_path = \"/home2/tathagato/summarization/MACSUM/dataset/macdoc/train.json\"\n",
    "val_path = \"/home2/tathagato/summarization/MACSUM/dataset/macdoc/val.json\"\n",
    "test_path = \"/home2/tathagato/summarization/MACSUM/dataset/macdoc/test.json\"\n"
   ]
  },
  {
   "cell_type": "code",
   "execution_count": 16,
   "metadata": {},
   "outputs": [
    {
     "name": "stdout",
     "output_type": "stream",
     "text": [
      "dict_keys(['metadata', 'references', 'source'])\n",
      "{'control_attribute': {'length': 'short', 'extractiveness': 'normal', 'specificity': 'normal', 'topic': ''}, 'summary': 'The 2014 Khumbu Icefall on Everest caused 16 Nepali deaths last year, resulting in at the end of the Nepal season. Mountaineers return to Everest after the deadly 2014 season. To avoid the deadly area, changes were made to the routes. Climbing permits have increased this year.', 'title': 'Nepal Opens Mount Everest Side After 2014 Tragedy', 'relevant_turns': [[0, 49]]}\n",
      "{'control_attribute': {'length': 'normal', 'extractiveness': 'normal', 'specificity': 'normal', 'topic': ''}, 'summary': \"In 2014, 16 Nepali died after glacial ice caused an avalanche, ending the Nepal Mount Everest climbing season. This year, mountaineers are returning to Everest and will be taking an alternate route to avoid the treacherous and dangerous path. There's been a slight increase in the number of climbing permits issued this year in Nepal, as well as an increase on the China side of Everest. Nepali companies are concerned climbers will divert to the Chinese side, as Nepali Sherpas depend on climbing tourism to feed their families and send their children to school.\", 'title': 'Nepal Opens Mount Everest Side After 2014 Tragedy', 'relevant_turns': [[0, 49]]}\n",
      "{'control_attribute': {'length': 'long', 'extractiveness': 'normal', 'specificity': 'normal', 'topic': ''}, 'summary': \"This year, mountaineers are returning to Mount Everest and will be taking an alternate route to avoid the treacherous and dangerous path through Khumbu Icefall that caused the deaths of 16 Nepali in 2014. The tragedy ended the 2014 Nepal climbing season. The new route is longer but considered safer than the route through Khumbu Icefall where climbers are exposed to the dangers of falling ice. Nepal issued 347 climbing permits this year, an increase from 334 permits issued the year before. A shift in climbers’ preferences from the Nepali side to the Chinese side of Mount Everest has concerned Nepali companies, as Sherpas depend heavily on the income tourism brings. Many guides are ready to begin this year's season after burying friends after the 2014 avalanche, although their family still has fresh memories of what happened the previous year.\", 'title': 'Nepal Opens Mount Everest Side After 2014 Tragedy', 'relevant_turns': [[0, 49]]}\n",
      "{'control_attribute': {'length': 'normal', 'extractiveness': 'normal', 'specificity': 'normal', 'topic': 'nepal , route'}, 'summary': \"In 2014, Nepal's Mount Everest climbing season ended when an avalanche killed 16 Nepali. This year, the route has been changed, avoiding the treacherous and dangerous Khumbu Icefall. The northern route on China's side is harsher but doesn't have an icefall. Nepal is concerned climbers will divert and climb the Chinese route over Nepal's route.\", 'title': 'New Mount Everest Route in Nepal', 'relevant_turns': [[1, 2], 4, [10, 16], 21, 24, [26, 34]]}\n",
      "{'control_attribute': {'length': 'normal', 'extractiveness': 'normal', 'specificity': 'high', 'topic': 'nepal , route'}, 'summary': \"In 2014, an avalanche on Nepal's side of Mount Everest took the lives of 16 Nepali, ending the year's climbing season. The treacherous route through Khumbu Icefall was changed this year to avoid the dangers of the icefall.\", 'title': 'New Mount Everest Route in Nepal', 'relevant_turns': [[1, 2], 4, [10, 16], 21, 24, [26, 34]]}\n",
      "{'control_attribute': {'length': 'normal', 'extractiveness': 'normal', 'specificity': 'normal', 'topic': 'year , tourism'}, 'summary': 'Nepal is concerned with climbing tourism this year. Last year, an avalanche killed 16. This year, Everest observers sense climbers might divert to the Chinese side of Mount Everest, which affects guides and their families, who depend on tourism dollars.', 'title': 'Climbing Tourism in Nepal This Year', 'relevant_turns': [[0, 1], [10, 11], [22, 25], 31, [34, 36], [39, 43], 45]}\n",
      "{'control_attribute': {'length': 'short', 'extractiveness': 'normal', 'specificity': 'normal', 'topic': 'year , tourism'}, 'summary': 'This year, Nepali companies are concerned about the decrease in climbing tourism after an avalanche killed 16 in Nepal last year.', 'title': 'Climbing Tourism in Nepal This Year', 'relevant_turns': [[0, 1], [10, 11], [22, 25], 31, [34, 36], [39, 43], 45]}\n",
      "[{'control_attribute': {'length': 'short', 'extractiveness': 'normal', 'specificity': 'normal', 'topic': ''}, 'summary': 'The 2014 Khumbu Icefall on Everest caused 16 Nepali deaths last year, resulting in at the end of the Nepal season. Mountaineers return to Everest after the deadly 2014 season. To avoid the deadly area, changes were made to the routes. Climbing permits have increased this year.', 'title': 'Nepal Opens Mount Everest Side After 2014 Tragedy', 'relevant_turns': [[0, 49]]}, {'control_attribute': {'length': 'normal', 'extractiveness': 'normal', 'specificity': 'normal', 'topic': ''}, 'summary': \"In 2014, 16 Nepali died after glacial ice caused an avalanche, ending the Nepal Mount Everest climbing season. This year, mountaineers are returning to Everest and will be taking an alternate route to avoid the treacherous and dangerous path. There's been a slight increase in the number of climbing permits issued this year in Nepal, as well as an increase on the China side of Everest. Nepali companies are concerned climbers will divert to the Chinese side, as Nepali Sherpas depend on climbing tourism to feed their families and send their children to school.\", 'title': 'Nepal Opens Mount Everest Side After 2014 Tragedy', 'relevant_turns': [[0, 49]]}, {'control_attribute': {'length': 'long', 'extractiveness': 'normal', 'specificity': 'normal', 'topic': ''}, 'summary': \"This year, mountaineers are returning to Mount Everest and will be taking an alternate route to avoid the treacherous and dangerous path through Khumbu Icefall that caused the deaths of 16 Nepali in 2014. The tragedy ended the 2014 Nepal climbing season. The new route is longer but considered safer than the route through Khumbu Icefall where climbers are exposed to the dangers of falling ice. Nepal issued 347 climbing permits this year, an increase from 334 permits issued the year before. A shift in climbers’ preferences from the Nepali side to the Chinese side of Mount Everest has concerned Nepali companies, as Sherpas depend heavily on the income tourism brings. Many guides are ready to begin this year's season after burying friends after the 2014 avalanche, although their family still has fresh memories of what happened the previous year.\", 'title': 'Nepal Opens Mount Everest Side After 2014 Tragedy', 'relevant_turns': [[0, 49]]}, {'control_attribute': {'length': 'normal', 'extractiveness': 'normal', 'specificity': 'normal', 'topic': 'nepal , route'}, 'summary': \"In 2014, Nepal's Mount Everest climbing season ended when an avalanche killed 16 Nepali. This year, the route has been changed, avoiding the treacherous and dangerous Khumbu Icefall. The northern route on China's side is harsher but doesn't have an icefall. Nepal is concerned climbers will divert and climb the Chinese route over Nepal's route.\", 'title': 'New Mount Everest Route in Nepal', 'relevant_turns': [[1, 2], 4, [10, 16], 21, 24, [26, 34]]}, {'control_attribute': {'length': 'normal', 'extractiveness': 'normal', 'specificity': 'high', 'topic': 'nepal , route'}, 'summary': \"In 2014, an avalanche on Nepal's side of Mount Everest took the lives of 16 Nepali, ending the year's climbing season. The treacherous route through Khumbu Icefall was changed this year to avoid the dangers of the icefall.\", 'title': 'New Mount Everest Route in Nepal', 'relevant_turns': [[1, 2], 4, [10, 16], 21, 24, [26, 34]]}, {'control_attribute': {'length': 'normal', 'extractiveness': 'normal', 'specificity': 'normal', 'topic': 'year , tourism'}, 'summary': 'Nepal is concerned with climbing tourism this year. Last year, an avalanche killed 16. This year, Everest observers sense climbers might divert to the Chinese side of Mount Everest, which affects guides and their families, who depend on tourism dollars.', 'title': 'Climbing Tourism in Nepal This Year', 'relevant_turns': [[0, 1], [10, 11], [22, 25], 31, [34, 36], [39, 43], 45]}, {'control_attribute': {'length': 'short', 'extractiveness': 'normal', 'specificity': 'normal', 'topic': 'year , tourism'}, 'summary': 'This year, Nepali companies are concerned about the decrease in climbing tourism after an avalanche killed 16 in Nepal last year.', 'title': 'Climbing Tourism in Nepal This Year', 'relevant_turns': [[0, 1], [10, 11], [22, 25], 31, [34, 36], [39, 43], 45]}]\n",
      "[\"(CNN)Mountaineers have returned to Mount Everest for this year's climbing season, resuming the quest to summit the world's highest peak after a deadly season last year.\", 'In 2014, the Nepal climbing season ended after a piece of glacial ice fell, unleashing an avalanche that killed 16 Nepalis who had just finished their morning prayers.', 'The April 18 accident was the single deadliest incident to ever occur on Mount Everest.', 'The deaths launched fierce debates about the enormous risks faced by the Sherpas and the dangers of climbing Everest.', 'In order to reduce risks, the route through Khumbu Icefall, the notoriously treacherous path where the 16 were killed, has been changed to one that takes longer but is expected to be safer.', '\"They\\'re going in the icefall and, as we found out on April 18, it\\'s the most dangerous place,\" said Conrad Anker, a veteran climber who has been to Everest three times.', '\"They\\'re exposed to the tumbling ice, hanging seracs above it.', \"It's very, very dangerous.\", 'It\\'s the most dangerous place I\\'ve been in the mountains.\"', 'At this point in the season, climbing teams have not yet entered Khumbu Icefall, which is essentially a frozen river rapid with jagged pieces breaking off and moving.', 'Nepal has issued 347 permits this year to climb Mount Everest, with 125 of them from the previously shortened season, according to the Nepal Ministry of Tourism.', \"It's a slight increase from the 334 who were given permission last year.\", 'The local Nepalese committee that determines the path up Everest announced in February that a different route had been selected.', 'The climbers will now take a central route through the Khumbu Icefall, avoiding the area where the deaths occurred.', 'The committee comprised of Sherpas voted to return to the central route for safety reasons.', '\"There will be little risk of avalanche than in the right or left,\" said Yangji Doma Sherpa, the spokeswoman for the Sagarmatha Pollution Control Committee.', 'The central route had been used in the 1990s, but was abandoned in favor of a quicker route, she said.', 'The new path means climbers will have to cross more crevasses, and use more vertical and horizontal ladders.', \"The committee issued a recommendation that the weight of workers' gear be limited to avoid overloading the ladders.\", '\"I think it will be an hour longer on the icefall,\" said Alan Arnette, who is blogging from Everest base camp this season.', '\"I don\\'t think it will be game changer.\"', 'But one company, Alpenglow Expeditions, said it would stop climbing from the Nepal side, where the climbers have to go through the icefall, in favor of the northern route from China.', '\"We\\'ve seen it get progressively more dangerous over the last few years,\" said  Adrian Ballinger, the company\\'s founder and CEO.', '\"We believe the risk is too great for our workers.\"', 'According to the China Tibet Mountaineering Association, 320 people have been registered to climb the northern route to Everest this year.', \"That's 136 more than last year.\", 'The Chinese side of Everest has typically been less popular than its Nepal counterpart, because of concerns of government closures.', \"Some Everest observers say the northern route has harsher weather and more rocky terrain, but it also doesn't have an icefall.\", 'The increasing popularity of the northern route has caused concern amongst Nepali companies that climbers will divert to the Chinese side.', '\"I can already see the shift with mountaineers I speak to,\" said Dawa Steven Sherpa, who is based in Nepal.', '\"More people are going to go to Tibet than Nepal.', 'Nepal needs the tourism far more than China does.', 'China has incredible wealth of resources and Nepal does not.\"', 'Leading expeditions is how Sherpas feed their families and send their children to school.', 'Nepal depends heavily on tourism dollars.', 'Many of the guides had to bury their friends after the accident last year, and while they may be ready to return to the summit, their families are not.', 'Many of them are \"leaving behind nervous, stressed-out wives and children,\" whose memories of what happened last year are fresh, said Dawa Sherpa, managing director of Asian Trekking.', '\"They do say they don\\'t want to put them through that again,\" he said.', '\"They\\'re not fearful for their own lives, it\\'s what they\\'re putting their family through.\"', 'Several mountaineers are also returning this year.', 'One of them is Jon Reiter, who spoke to CNN last year after the tragedy.', 'When the icy avalanche thundered down, Reiter was shoved behind an ice block by his Sherpa guide.', 'Reiter, who is making his way to base camp this year, could not be reached directly.', \"But he explained why he's heading back to Everest this year on his blog.\", '\"I can\\'t quite find the words to tell you why, or what really pulls me back to the mountains,\" he wrote.', '\"When we were in the midst of last year\\'s events it was hard to see the big picture.', \"It was hard to remember that people die in the mountains but that it's more rare than not.\", '\"It was hard for me to remember that I\\'m not choosing between my life at home and dying in the mountains.', 'I like to think it\\'s similar to surviving a plane crash or a major pile up on the freeway.\"', \"CNN's Sugam Pokharel contributed to this report.\"]\n"
     ]
    }
   ],
   "source": [
    "#first understand the structure of the data\n",
    "test_data = json.load(open(test_path))\n",
    "print(test_data[0].keys())\n",
    "for key in test_data[0]['references']:\n",
    "    print(key)\n",
    "print(test_data[0]['references'])\n",
    "print(test_data[0]['source'])"
   ]
  },
  {
   "cell_type": "code",
   "execution_count": 30,
   "metadata": {},
   "outputs": [
    {
     "name": "stderr",
     "output_type": "stream",
     "text": [
      "94it [00:00, 13169.37it/s]\n"
     ]
    }
   ],
   "source": [
    "def generate_dpo_pairs(data, attributes):\n",
    "    dataset = {}\n",
    "    new_idx = 0\n",
    "    for idx, example in tqdm.tqdm(enumerate(data)):\n",
    "        source = example['source']\n",
    "        num_references = len(example['references'])\n",
    "        for i in range(num_references):\n",
    "            for j in range(i+1, num_references):\n",
    "                first_control_attributes = example['references'][i]['control_attribute']\n",
    "                second_control_attributes = example['references'][j]['control_attribute']\n",
    "                is_usable = True\n",
    "                for attr in attributes:\n",
    "                    if first_control_attributes[attr] == \"\" or second_control_attributes[attr] == \"\":\n",
    "                        is_usable = False\n",
    "                        break\n",
    "                    elif first_control_attributes[attr] == second_control_attributes[attr]:\n",
    "                        is_usable = False\n",
    "                        break\n",
    "                if is_usable:\n",
    "                    first_selection = {attr : first_control_attributes[attr] for attr in attributes}\n",
    "                    second_selection = {attr : second_control_attributes[attr] for attr in attributes}\n",
    "                    dataset[new_idx] = { \"source\" : source , \"chosen\" : example['references'][i]['summary'], \"unchosen\" : example['references'][j]['summary'], \"prefered_control_attributes\" : first_selection, \"rejected_control_attributes\" : second_selection, \"indexes\" : [i, j]}\n",
    "                    new_idx += 1\n",
    "                    dataset[new_idx] = { \"source\" : source , \"chosen\" : example['references'][j]['summary'], \"unchosen\" : example['references'][i]['summary'], \"prefered_control_attributes\" : second_selection, \"rejected_control_attributes\" : first_selection, \"indexes\" : [j, i]}\n",
    "                    new_idx += 1\n",
    "    return dataset\n",
    "train_dataset = generate_dpo_pairs(test_data, [\"length\"])\n",
    "\n"
   ]
  },
  {
   "cell_type": "code",
   "execution_count": 31,
   "metadata": {},
   "outputs": [
    {
     "data": {
      "text/plain": [
       "1938"
      ]
     },
     "execution_count": 31,
     "metadata": {},
     "output_type": "execute_result"
    }
   ],
   "source": [
    "len(train_dataset)"
   ]
  },
  {
   "cell_type": "code",
   "execution_count": 32,
   "metadata": {},
   "outputs": [
    {
     "name": "stdout",
     "output_type": "stream",
     "text": [
      "{'length': 'short'} {'length': 'normal'} [0, 1]\n",
      "{'length': 'normal'} {'length': 'short'} [1, 0]\n",
      "{'length': 'short'} {'length': 'long'} [0, 2]\n",
      "{'length': 'long'} {'length': 'short'} [2, 0]\n",
      "{'length': 'short'} {'length': 'normal'} [0, 3]\n",
      "{'length': 'normal'} {'length': 'short'} [3, 0]\n",
      "{'length': 'short'} {'length': 'normal'} [0, 4]\n",
      "{'length': 'normal'} {'length': 'short'} [4, 0]\n",
      "{'length': 'short'} {'length': 'normal'} [0, 5]\n",
      "{'length': 'normal'} {'length': 'short'} [5, 0]\n",
      "{'length': 'normal'} {'length': 'long'} [1, 2]\n",
      "{'length': 'long'} {'length': 'normal'} [2, 1]\n",
      "{'length': 'normal'} {'length': 'short'} [1, 6]\n",
      "{'length': 'short'} {'length': 'normal'} [6, 1]\n",
      "{'length': 'long'} {'length': 'normal'} [2, 3]\n",
      "{'length': 'normal'} {'length': 'long'} [3, 2]\n",
      "{'length': 'long'} {'length': 'normal'} [2, 4]\n",
      "{'length': 'normal'} {'length': 'long'} [4, 2]\n",
      "{'length': 'long'} {'length': 'normal'} [2, 5]\n",
      "{'length': 'normal'} {'length': 'long'} [5, 2]\n",
      "{'length': 'long'} {'length': 'short'} [2, 6]\n",
      "{'length': 'short'} {'length': 'long'} [6, 2]\n",
      "{'length': 'normal'} {'length': 'short'} [3, 6]\n",
      "{'length': 'short'} {'length': 'normal'} [6, 3]\n",
      "{'length': 'normal'} {'length': 'short'} [4, 6]\n",
      "{'length': 'short'} {'length': 'normal'} [6, 4]\n",
      "{'length': 'normal'} {'length': 'short'} [5, 6]\n",
      "{'length': 'short'} {'length': 'normal'} [6, 5]\n"
     ]
    }
   ],
   "source": [
    "for idx, key in enumerate(train_dataset.keys()):\n",
    "    print(train_dataset[key]['prefered_control_attributes'], train_dataset[key]['rejected_control_attributes'], train_dataset[key]['indexes'])\n",
    "    if idx == 27:\n",
    "        break"
   ]
  },
  {
   "cell_type": "code",
   "execution_count": null,
   "metadata": {},
   "outputs": [],
   "source": []
  }
 ],
 "metadata": {
  "kernelspec": {
   "display_name": "roy",
   "language": "python",
   "name": "python3"
  },
  "language_info": {
   "codemirror_mode": {
    "name": "ipython",
    "version": 3
   },
   "file_extension": ".py",
   "mimetype": "text/x-python",
   "name": "python",
   "nbconvert_exporter": "python",
   "pygments_lexer": "ipython3",
   "version": "3.9.19"
  }
 },
 "nbformat": 4,
 "nbformat_minor": 2
}
