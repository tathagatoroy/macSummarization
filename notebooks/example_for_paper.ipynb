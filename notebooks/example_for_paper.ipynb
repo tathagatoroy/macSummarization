{
 "cells": [
  {
   "cell_type": "code",
   "execution_count": 5,
   "metadata": {},
   "outputs": [],
   "source": [
    "import sys\n",
    "sys.path.insert(0,\"/home2/tathagato/summarization/MACSUM/naacl\")\n",
    "import os\n",
    "import pickle as pkl\n",
    "\n",
    "\n"
   ]
  },
  {
   "cell_type": "code",
   "execution_count": 3,
   "metadata": {},
   "outputs": [
    {
     "name": "stdout",
     "output_type": "stream",
     "text": [
      "/scratch/tathagato/naacl/zero_shot/mistral_extractiveness.pkl\n",
      "/scratch/tathagato/naacl/zero_shot/llama_extractiveness_and_specificity.pkl\n",
      "/scratch/tathagato/naacl/zero_shot/llama_length_and_topic.pkl\n",
      "/scratch/tathagato/naacl/zero_shot/llama_length_and_extractiveness.pkl\n",
      "/scratch/tathagato/naacl/zero_shot/mistral_topic_and_extractiveness.pkl\n",
      "/scratch/tathagato/naacl/zero_shot/llama_extractiveness.pkl\n",
      "/scratch/tathagato/naacl/zero_shot/mistral_topic_and_specificity.pkl\n",
      "/scratch/tathagato/naacl/zero_shot/mistral_length_and_topic.pkl\n",
      "/scratch/tathagato/naacl/zero_shot/llama_topic_and_extractiveness.pkl\n",
      "/scratch/tathagato/naacl/zero_shot/mistral_length_and_specificity.pkl\n",
      "/scratch/tathagato/naacl/zero_shot/llama_length.pkl\n",
      "/scratch/tathagato/naacl/zero_shot/llama_topic.pkl\n",
      "/scratch/tathagato/naacl/zero_shot/llama_length_and_specificity.pkl\n",
      "/scratch/tathagato/naacl/zero_shot/mistral_length_and_extractiveness.pkl\n",
      "/scratch/tathagato/naacl/zero_shot/mistral_length.pkl\n",
      "/scratch/tathagato/naacl/zero_shot/llama_specificity.pkl\n",
      "/scratch/tathagato/naacl/zero_shot/llama_topic_and_specificity.pkl\n",
      "/scratch/tathagato/naacl/zero_shot/mistral_specificity.pkl\n",
      "/scratch/tathagato/naacl/zero_shot/mistral_topic.pkl\n",
      "/scratch/tathagato/naacl/zero_shot/mistral_extractiveness_and_specificity.pkl\n"
     ]
    }
   ],
   "source": [
    "zero_shot_directory = \"/scratch/tathagato/naacl/zero_shot\"\n",
    "#get all pkl files in all subdirectories\n",
    "pkl_files = []\n",
    "for root, dirs, files in os.walk(zero_shot_directory):\n",
    "    for file in files:\n",
    "        if file.endswith(\".pkl\"):\n",
    "            pkl_files.append(os.path.join(root, file))\n",
    "for pkl_file in pkl_files:\n",
    "    print(pkl_file)\n",
    " "
   ]
  },
  {
   "cell_type": "code",
   "execution_count": 6,
   "metadata": {},
   "outputs": [
    {
     "name": "stdout",
     "output_type": "stream",
     "text": [
      "266\n",
      "dict_keys(['input', 'predicted_summary', 'reference', 'generated_text', 'control_value', 'control_attribute', 'input_ids', 'output', 'prompt'])\n"
     ]
    },
    {
     "name": "stderr",
     "output_type": "stream",
     "text": [
      "/home2/tathagato/miniconda3/envs/roy/lib/python3.9/site-packages/torch/storage.py:414: FutureWarning: You are using `torch.load` with `weights_only=False` (the current default value), which uses the default pickle module implicitly. It is possible to construct malicious pickle data which will execute arbitrary code during unpickling (See https://github.com/pytorch/pytorch/blob/main/SECURITY.md#untrusted-models for more details). In a future release, the default value for `weights_only` will be flipped to `True`. This limits the functions that could be executed during unpickling. Arbitrary objects will no longer be allowed to be loaded via this mode unless they are explicitly allowlisted by the user via `torch.serialization.add_safe_globals`. We recommend you start setting `weights_only=True` for any use case where you don't have full control of the loaded file. Please open an issue on GitHub for any issues related to this experimental feature.\n",
      "  return torch.load(io.BytesIO(b))\n"
     ]
    }
   ],
   "source": [
    "pkl_file = \"/scratch/tathagato/naacl/zero_shot/llama_length_and_topic.pkl\"\n",
    "data = pkl.load(open(pkl_file, \"rb\"))\n",
    "print(len(data))\n",
    "print(data[0].keys())"
   ]
  },
  {
   "cell_type": "code",
   "execution_count": 12,
   "metadata": {},
   "outputs": [
    {
     "name": "stdout",
     "output_type": "stream",
     "text": [
      "<|begin_of_text|><|start_header_id|>system<|end_header_id|> You are an honest and to the point assistant, please follow the instruction and answer to the point. Please do not provide any irrelevant information or add any extra words than that is necessary to answer the question.<|eot_id|><|start_header_id|>user<|end_header_id|> Write a summary of the source text. The summary should be normal in length. The length is defined in terms of number of words used in the summary.The summary should be focussed on the topic police.. The source text is given below. \n",
      "\n",
      "(CNN)Please, not even a demonstration. Freddie Gray's family had asked there be quiet on Baltimore's streets the day they laid him to rest. And above all, no violence. Raging hordes turned a deaf ear to that on Monday. But a handful of people repeated the family's message. They became criers in the desert against countless young people flinging rocks at police, breaking windows, looting and setting fires. The peacemakers -- clergy, Gray's family and brave residents -- placed themselves in the rioters' way. Their message was the same. \"I want them all to go back home,\" said Rev. Jamal Bryant. \"It's disrespect to the family. The family was very clear -- we've been saying it all along -- today there was absolutely no protest, no demonstration,\" he said. But the messengers were a finger in a dam that quickly crumbled, as rowdy groups swelled into a full urban riot. It overshadowed the message peaceful protesters delivered on prior days -- justice for Gray. The 25-year-old African-American man died from spinal injuries after being arrested earlier this month. The early fits of violence came in the afternoon, about the time mourners left Gray's memorial services blocks away, Rev. Bryant said. They bumped right into it. \"For us to come out of the burial and walk into this is absolutely inexcusable,\" he said. He did not want to see it spread to downtown Baltimore, where some rioters said it would, and organized people to stand in the way. \"We have a line of gentlemen from the Nation of Islam to build a human wall, as well as men from the Christian church making that human wall,\" he said. But as crowds turned into multitudes, the intervention became a drop in the bucket by compare, and police lines were also no match. As officers in riot gear receded, flames engulfed cars and stores and roared out of apartment buildings into the night sky. A senior living facility under construction by a Baptist church burned to the ground. The blazes stretched the fire departments' resources, as at least 30 trucks deployed. Looters streamed into a CVS, bodegas and liquor stores and walked out with what they could carry. A young man in a blue sweatshirt tried to talk people down by himself. He walked up to CNN correspondent Miguel Martinez, as a store nearby was being looted. It later went up in flames. The man, who didn't say his name, was disgusted at what was happening in his neighborhood and disappointed in the police response to rioting. There was a line of police down the street, not far away. \"They could have moved down here to stop it,\" he told Martinez. The Gray family's lawyers, again, put the family's wish out to the public that there be no protests that day, let alone violence. It's marring the cause and hope for change that may have come out of the investigation into Freddie Gray's death, said family attorney Mary Koch. \"That's just disintegrated into just looking at Baltimore city and thinking that the city is the city of violence,\" she said. Against all odds, a handful of individuals kept trying to stop it. A tall, adult man walked up to a young man who was confronting riot police. He slung an arm over his shoulder, turned him back around in the other direction and marched him away from police lines. But as they strolled past a crowd, a young man behind them hurled a stone at police, putting his whole body into the throw. At least one young man paid the price for his participation, when his mother turned up to spank him home. Before running cameras, she slapped him in the head again and again, driving him away from the crowd, as she cursed. Police Commissioner Anthony Batts later thanked her. \"I wish I had more parents that took charge of their kids out there tonight,\" he said. After night fell, giving way to a 10 p.m. curfew for juveniles, Robert Valentine stood alone with his back to a line of police in riot gear. He shooed away young people tempted to approach them. \"Go! Step your --ss away!\" \"I'm just a soldier,\" said Valentine. He told CNN's Joe Johns that he was a veteran of the Vietnam War. Young people had no business on the streets, he said. \"They need to be in their home units studying and doing something with their lives.\" Even Baltimore members of the Crips and Bloods, two street gangs renowned for drug dealing and extensive violent crime -- and for killing each other -- came together with others who condemned the rage that swept through their neighborhoods. \"The guys who pulled me aside are self-identifying as Crips and say they don't approve of whats happening. 'This is our community,'\" wrote Baltimore Sun reporter Justin Fenton on his confirmed Twitter account. Gangs members joined community leaders and Gray's family for a press conference Monday night on the stage at New Shiloh Baptist Church, which had held Gray's funeral. An announcer thanked them for coming to the church. The gangs have signed a peace deal and are uniting to push against police lines in protests, according to a report by the Daily Beast. Rev. Bryant also mentioned their peace treaty. But police say the gangs' purpose goes much further -- that they and another gang called the Black Guerilla Family plan to 'take out' law enforcement officers, police said. \"This is a credible threat.\" The gangs are consistently pursued by the FBI. At the end of the day, Gray's family had the last word on the violence at the press conference. It wasn't good. \"To see that it turned into all this violence and destruction, I am appalled,\" said Richard Shipley, Gray's stepfather. \"I want y'all to get justice for my son, but don't do it like this here,\" said Gray's mother Gloria Darden, who wore a T-shirt with her son's photo. \"I don't think that's for Freddie,\" his twin sister Fredericka Gray said. \"I think the violence is wrong.\" After their comments, Gray family lawyer William H. Murphy took the microphone. Violence is not the path to change, he said. Then he got back to the message than had been bitterly marred by the rioting. Murphy asked for a show of hands in the church audience of people who had experienced police brutality or personally knew someone who did. All but a few hands went up.<|eot_id|><|start_header_id|>assistant<|end_header_id|> \n",
      "\n",
      "\n",
      "\n",
      "In Baltimore, a peaceful memorial service for Freddie Gray turned into a violent riot. Despite the Gray family's plea for no protests or violence, crowds clashed with police, looted stores, and set fires. A few individuals, including community leaders and some gang members, tried to stop the violence but were largely unsuccessful. The riot overshadowed the message of justice for Gray, who died from spinal injuries after being arrested. The police response was criticized by some who felt they could have done more to prevent the violence. \n",
      "\n",
      "On the day of Freddie's funeral, the Gray family called for silence and peace, but a group of youths began rioting in Baltimore in the afternoon. A peace group tried to dissuade them, but there were too many. The crowd threw stones at the police. Officers in riot gear backed away. Different groups of gang members met with community leaders and the Gray family and signed a peace agreement, although police said the gangs just want to remove law enforcement officers. The Gray family's attorney asked for a show of hands for those who had experienced police brutality or knew someone who had, and most raised their hands. \n",
      "\n"
     ]
    }
   ],
   "source": [
    "idx_random = 10\n",
    "print(data[idx_random][\"prompt\"],\"\\n\")\n",
    "print(data[idx_random][\"predicted_summary\"],\"\\n\")\n",
    "#print(data[idx_random][\"input\"],\"\\n\")\n",
    "print(data[idx_random][\"output\"],\"\\n\")"
   ]
  },
  {
   "cell_type": "code",
   "execution_count": null,
   "metadata": {},
   "outputs": [],
   "source": []
  }
 ],
 "metadata": {
  "kernelspec": {
   "display_name": "roy",
   "language": "python",
   "name": "python3"
  },
  "language_info": {
   "codemirror_mode": {
    "name": "ipython",
    "version": 3
   },
   "file_extension": ".py",
   "mimetype": "text/x-python",
   "name": "python",
   "nbconvert_exporter": "python",
   "pygments_lexer": "ipython3",
   "version": "3.9.19"
  }
 },
 "nbformat": 4,
 "nbformat_minor": 2
}
