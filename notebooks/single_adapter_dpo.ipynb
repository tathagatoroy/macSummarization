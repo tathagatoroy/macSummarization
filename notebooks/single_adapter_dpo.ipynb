{
 "cells": [
  {
   "cell_type": "code",
   "execution_count": 3,
   "metadata": {},
   "outputs": [
    {
     "name": "stderr",
     "output_type": "stream",
     "text": [
      "[nltk_data] Downloading package punkt to /home2/tathagato/nltk_data...\n",
      "[nltk_data]   Package punkt is already up-to-date!\n",
      "[nltk_data] Downloading package averaged_perceptron_tagger to\n",
      "[nltk_data]     /home2/tathagato/nltk_data...\n",
      "[nltk_data]   Package averaged_perceptron_tagger is already up-to-\n",
      "[nltk_data]       date!\n",
      "[nltk_data] Downloading package stopwords to\n",
      "[nltk_data]     /home2/tathagato/nltk_data...\n",
      "[nltk_data]   Package stopwords is already up-to-date!\n"
     ]
    }
   ],
   "source": [
    "import sys\n",
    "sys.path.insert(0,\"/home2/tathagato/summarization/MACSUM/naacl\")\n",
    "from eval import single_dpo_evaluation\n",
    "\n"
   ]
  },
  {
   "cell_type": "code",
   "execution_count": 4,
   "metadata": {},
   "outputs": [
    {
     "name": "stderr",
     "output_type": "stream",
     "text": [
      "  0%|          | 0/8 [00:00<?, ?it/s]"
     ]
    },
    {
     "name": "stdout",
     "output_type": "stream",
     "text": [
      "evaluating mistral with attributes ['extractiveness']\n",
      "length of data is  547\n",
      "/scratch/tathagato/naacl/single_attribute_dpo/mistral_extractiveness/results.pkl is being evaluated on extractiveness\n"
     ]
    },
    {
     "name": "stderr",
     "output_type": "stream",
     "text": [
      "/home2/tathagato/miniconda3/envs/roy/lib/python3.9/site-packages/torch/storage.py:414: FutureWarning: You are using `torch.load` with `weights_only=False` (the current default value), which uses the default pickle module implicitly. It is possible to construct malicious pickle data which will execute arbitrary code during unpickling (See https://github.com/pytorch/pytorch/blob/main/SECURITY.md#untrusted-models for more details). In a future release, the default value for `weights_only` will be flipped to `True`. This limits the functions that could be executed during unpickling. Arbitrary objects will no longer be allowed to be loaded via this mode unless they are explicitly allowlisted by the user via `torch.serialization.add_safe_globals`. We recommend you start setting `weights_only=True` for any use case where you don't have full control of the loaded file. Please open an issue on GitHub for any issues related to this experimental feature.\n",
      "  return torch.load(io.BytesIO(b))\n",
      " 12%|█▎        | 1/8 [00:27<03:14, 27.80s/it]"
     ]
    },
    {
     "name": "stdout",
     "output_type": "stream",
     "text": [
      "extractiveness evaluation\n",
      "--------------overall----------------\n",
      "fragment_density : 4.866945357966788\n",
      "gold_fragment_density : 3.5740066422781958\n",
      "coverage : 0.8689999374010714\n",
      "gold_coverage : 0.8769379470940913\n",
      "overlap : 0.5201601516342843\n",
      "gold_overlap : 0.4790941100760585\n",
      "f_value : 0.39449032393162653\n",
      "gold_f_value : 0.4511502408839063\n",
      "rouge1 : 0.2261604332390465\n",
      "rouge2 : 0.08004356077182645\n",
      "rouge3 : 0.03499558881872859\n",
      "rougeL : 0.14010199227393927\n",
      "number : 547\n",
      "-------------------------------------------------\n",
      "--------------normal----------------\n",
      "fragment_density : 4.824254195434705\n",
      "gold_fragment_density : 3.0470808464199073\n",
      "coverage : 0.8671617138698721\n",
      "gold_coverage : 0.866959576381\n",
      "overlap : 0.5171489548034728\n",
      "gold_overlap : 0.44346948972372485\n",
      "f_value : 0.3500997596328743\n",
      "gold_f_value : 0.44861946338793457\n",
      "rouge1 : 0.23601441576055557\n",
      "rouge2 : 0.08212478450316876\n",
      "rouge3 : 0.03467398507560842\n",
      "rougeL : 0.14411776189451062\n",
      "number : 467\n",
      "-------------------------------------------------\n",
      "--------------high----------------\n",
      "fragment_density : 4.992029565090704\n",
      "gold_fragment_density : 5.795913412523072\n",
      "coverage : 0.8830436412571079\n",
      "gold_coverage : 0.9251531914859265\n",
      "overlap : 0.5416220965071371\n",
      "gold_overlap : 0.6154424686586898\n",
      "f_value : 0.5490566696774377\n",
      "gold_f_value : 0.4674323135082814\n",
      "rouge1 : 0.17299777451455176\n",
      "rouge2 : 0.06469331050398212\n",
      "rouge3 : 0.03247329266225714\n",
      "rougeL : 0.11387244228402464\n",
      "number : 43\n",
      "-------------------------------------------------\n",
      "--------------fully----------------\n",
      "fragment_density : 5.260408925430427\n",
      "gold_fragment_density : 7.64244868404282\n",
      "coverage : 0.8758802380297347\n",
      "gold_coverage : 0.9468472339634081\n",
      "overlap : 0.5332240784033725\n",
      "gold_overlap : 0.770275685359483\n",
      "f_value : 0.7751400715112862\n",
      "gold_f_value : 0.46417034812095104\n",
      "rouge1 : 0.16357082479603405\n",
      "rouge2 : 0.07161462236589275\n",
      "rouge3 : 0.04198606673130679\n",
      "rougeL : 0.11989945813230428\n",
      "number : 37\n",
      "-------------------------------------------------\n",
      "----------------------------------------------------------------------------------------\n",
      "evaluating mistral with attributes ['topic']\n",
      "length of data is  266\n",
      "/scratch/tathagato/naacl/single_attribute_dpo/mistral_topic/results.pkl is being evaluated on topic\n"
     ]
    },
    {
     "name": "stderr",
     "output_type": "stream",
     "text": [
      " 25%|██▌       | 2/8 [00:28<01:10, 11.72s/it]"
     ]
    },
    {
     "name": "stdout",
     "output_type": "stream",
     "text": [
      "--------------overall----------------\n",
      "rouge1 : 0.2191735469048436\n",
      "rouge2 : 0.0772858799150674\n",
      "rouge3 : 0.035369665121664354\n",
      "rougeL : 0.14552828627887832\n",
      "number : 266\n",
      "-------------------------------------------------\n",
      "evaluating mistral with attributes ['length']\n",
      "length of data is  547\n",
      "/scratch/tathagato/naacl/single_attribute_dpo/mistral_length/results.pkl is being evaluated on length\n"
     ]
    },
    {
     "name": "stderr",
     "output_type": "stream",
     "text": [
      " 38%|███▊      | 3/8 [00:32<00:42,  8.53s/it]"
     ]
    },
    {
     "name": "stdout",
     "output_type": "stream",
     "text": [
      "\n",
      "\n",
      "length evaluation\n",
      "--------------overall----------------\n",
      "summary_length : 182.10420475319927\n",
      "gold_summary_length : 55.96160877513711\n",
      "compression_ratio : 0.26716792591009436\n",
      "gold_compression_ratio : 0.073909843888783\n",
      "rouge1 : 0.25363439022440437\n",
      "rouge2 : 0.08242895121748578\n",
      "rouge3 : 0.033998677404122886\n",
      "rougeL : 0.15544525339187307\n",
      "number : 547\n",
      "-------------------------------------------------\n",
      "--------------short----------------\n",
      "summary_length : 125.44\n",
      "gold_summary_length : 34.288\n",
      "compression_ratio : 0.20245116660890444\n",
      "gold_compression_ratio : 0.046553397518622926\n",
      "rouge1 : 0.23403540055392588\n",
      "rouge2 : 0.0750775271618137\n",
      "rouge3 : 0.029113184697080362\n",
      "rougeL : 0.15274364243351543\n",
      "number : 125\n",
      "-------------------------------------------------\n",
      "--------------normal----------------\n",
      "summary_length : 183.96245733788396\n",
      "gold_summary_length : 47.89078498293515\n",
      "compression_ratio : 0.25012582742974626\n",
      "gold_compression_ratio : 0.06213176543009471\n",
      "rouge1 : 0.2304798167158644\n",
      "rouge2 : 0.07310026774790673\n",
      "rouge3 : 0.029392681490249404\n",
      "rougeL : 0.14441263285294054\n",
      "number : 293\n",
      "-------------------------------------------------\n",
      "--------------long----------------\n",
      "summary_length : 232.7906976744186\n",
      "gold_summary_length : 95.29457364341086\n",
      "compression_ratio : 0.36858598612242544\n",
      "gold_compression_ratio : 0.12716978795595882\n",
      "rouge1 : 0.32521705492837344\n",
      "rouge2 : 0.11074082922946772\n",
      "rouge3 : 0.04919436260679921\n",
      "rougeL : 0.18312168120351602\n",
      "number : 129\n",
      "-------------------------------------------------\n",
      "----------------------------------------------------------------------------------------\n",
      "evaluating llama with attributes ['specificity']\n",
      "length of data is  547\n",
      "specificity is not supported for evaluation\n",
      "skipping specificity for results.pkl\n",
      "evaluating mistral with attributes ['specificity']\n",
      "length of data is  547\n",
      "specificity is not supported for evaluation\n",
      "skipping specificity for results.pkl\n",
      "evaluating llama with attributes ['topic']\n",
      "length of data is  266\n",
      "/scratch/tathagato/naacl/single_attribute_dpo/llama_topic/results.pkl is being evaluated on topic\n"
     ]
    },
    {
     "name": "stderr",
     "output_type": "stream",
     "text": [
      " 75%|███████▌  | 6/8 [00:33<00:05,  3.00s/it]"
     ]
    },
    {
     "name": "stdout",
     "output_type": "stream",
     "text": [
      "--------------overall----------------\n",
      "rouge1 : 0.3075724750967759\n",
      "rouge2 : 0.09927843551966202\n",
      "rouge3 : 0.040957703901707276\n",
      "rougeL : 0.2050523374110649\n",
      "number : 266\n",
      "-------------------------------------------------\n",
      "evaluating llama with attributes ['extractiveness']\n",
      "length of data is  547\n",
      "/scratch/tathagato/naacl/single_attribute_dpo/llama_extractiveness/results.pkl is being evaluated on extractiveness\n"
     ]
    },
    {
     "name": "stderr",
     "output_type": "stream",
     "text": [
      " 88%|████████▊ | 7/8 [00:53<00:07,  7.03s/it]"
     ]
    },
    {
     "name": "stdout",
     "output_type": "stream",
     "text": [
      "extractiveness evaluation\n",
      "--------------overall----------------\n",
      "fragment_density : 3.233625910460118\n",
      "gold_fragment_density : 3.5740066422781958\n",
      "coverage : 0.8935952951184177\n",
      "gold_coverage : 0.8769379470940913\n",
      "overlap : 0.4904531314484601\n",
      "gold_overlap : 0.4790941100760585\n",
      "f_value : 0.39449032393162653\n",
      "gold_f_value : 0.383113468811112\n",
      "rouge1 : 0.3023335151596073\n",
      "rouge2 : 0.09452372581276082\n",
      "rouge3 : 0.0381006630997288\n",
      "rougeL : 0.19039529090006438\n",
      "number : 547\n",
      "-------------------------------------------------\n",
      "--------------normal----------------\n",
      "fragment_density : 2.950837970797093\n",
      "gold_fragment_density : 3.0470808464199073\n",
      "coverage : 0.888917486105341\n",
      "gold_coverage : 0.866959576381\n",
      "overlap : 0.4790791615577615\n",
      "gold_overlap : 0.44346948972372485\n",
      "f_value : 0.3500997596328743\n",
      "gold_f_value : 0.3717026981297157\n",
      "rouge1 : 0.3140680589325293\n",
      "rouge2 : 0.09779809770941493\n",
      "rouge3 : 0.03920730802496508\n",
      "rougeL : 0.19594004689911812\n",
      "number : 467\n",
      "-------------------------------------------------\n",
      "--------------high----------------\n",
      "fragment_density : 3.0793328376931424\n",
      "gold_fragment_density : 5.795913412523072\n",
      "coverage : 0.9083137229511401\n",
      "gold_coverage : 0.9251531914859265\n",
      "overlap : 0.5085577120506316\n",
      "gold_overlap : 0.6154424686586898\n",
      "f_value : 0.5490566696774377\n",
      "gold_f_value : 0.3971676301826495\n",
      "rouge1 : 0.23252403552428802\n",
      "rouge2 : 0.06424011001424268\n",
      "rouge3 : 0.023366615603332117\n",
      "rougeL : 0.148480750391618\n",
      "number : 43\n",
      "-------------------------------------------------\n",
      "--------------fully----------------\n",
      "fragment_density : 6.982181855098296\n",
      "gold_fragment_density : 7.64244868404282\n",
      "coverage : 0.9355316305859773\n",
      "gold_coverage : 0.9468472339634081\n",
      "overlap : 0.612970617206916\n",
      "gold_overlap : 0.770275685359483\n",
      "f_value : 0.7751400715112862\n",
      "gold_f_value : 0.5108026841958672\n",
      "rouge1 : 0.23535447954782818\n",
      "rouge2 : 0.08839031509921534\n",
      "rouge3 : 0.041256362079721054\n",
      "rougeL : 0.16912297171912113\n",
      "number : 37\n",
      "-------------------------------------------------\n",
      "----------------------------------------------------------------------------------------\n",
      "evaluating llama with attributes ['length']\n",
      "length of data is  547\n",
      "/scratch/tathagato/naacl/single_attribute_dpo/llama_length/results.pkl is being evaluated on length\n"
     ]
    },
    {
     "name": "stderr",
     "output_type": "stream",
     "text": [
      "100%|██████████| 8/8 [00:57<00:00,  7.23s/it]"
     ]
    },
    {
     "name": "stdout",
     "output_type": "stream",
     "text": [
      "\n",
      "\n",
      "length evaluation\n",
      "--------------overall----------------\n",
      "summary_length : 133.94149908592323\n",
      "gold_summary_length : 55.96160877513711\n",
      "compression_ratio : 0.19751840166874146\n",
      "gold_compression_ratio : 0.073909843888783\n",
      "rouge1 : 0.2969543579607117\n",
      "rouge2 : 0.09695650499773567\n",
      "rouge3 : 0.040706616537497076\n",
      "rougeL : 0.18751422544404117\n",
      "number : 547\n",
      "-------------------------------------------------\n",
      "--------------short----------------\n",
      "summary_length : 40.44\n",
      "gold_summary_length : 34.288\n",
      "compression_ratio : 0.06319238905187828\n",
      "gold_compression_ratio : 0.046553397518622926\n",
      "rouge1 : 0.3203076967212648\n",
      "rouge2 : 0.11624541940040367\n",
      "rouge3 : 0.04995629713471066\n",
      "rougeL : 0.22860186617108935\n",
      "number : 125\n",
      "-------------------------------------------------\n",
      "--------------normal----------------\n",
      "summary_length : 98.84641638225256\n",
      "gold_summary_length : 47.89078498293515\n",
      "compression_ratio : 0.13089769662515\n",
      "gold_compression_ratio : 0.06213176543009471\n",
      "rouge1 : 0.2850559150554544\n",
      "rouge2 : 0.08038212489138709\n",
      "rouge3 : 0.030153932885453993\n",
      "rougeL : 0.17510275588978377\n",
      "number : 293\n",
      "-------------------------------------------------\n",
      "--------------long----------------\n",
      "summary_length : 304.25581395348837\n",
      "gold_summary_length : 95.29457364341086\n",
      "compression_ratio : 0.4789960617840917\n",
      "gold_compression_ratio : 0.12716978795595882\n",
      "rouge1 : 0.301350299248861\n",
      "rouge2 : 0.11591138151577159\n",
      "rouge3 : 0.05571224626925619\n",
      "rougeL : 0.17589101217672634\n",
      "number : 129\n",
      "-------------------------------------------------\n",
      "----------------------------------------------------------------------------------------\n"
     ]
    },
    {
     "name": "stderr",
     "output_type": "stream",
     "text": [
      "\n"
     ]
    }
   ],
   "source": [
    "single_dpo_directory = \"/scratch/tathagato/naacl/single_attribute_dpo\"\n",
    "results = single_dpo_evaluation(single_dpo_directory)"
   ]
  },
  {
   "cell_type": "code",
   "execution_count": null,
   "metadata": {},
   "outputs": [],
   "source": []
  },
  {
   "cell_type": "code",
   "execution_count": null,
   "metadata": {},
   "outputs": [],
   "source": []
  }
 ],
 "metadata": {
  "kernelspec": {
   "display_name": "roy",
   "language": "python",
   "name": "python3"
  },
  "language_info": {
   "codemirror_mode": {
    "name": "ipython",
    "version": 3
   },
   "file_extension": ".py",
   "mimetype": "text/x-python",
   "name": "python",
   "nbconvert_exporter": "python",
   "pygments_lexer": "ipython3",
   "version": "3.9.19"
  }
 },
 "nbformat": 4,
 "nbformat_minor": 2
}
