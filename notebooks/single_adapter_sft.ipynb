{
 "cells": [
  {
   "cell_type": "code",
   "execution_count": 1,
   "metadata": {},
   "outputs": [
    {
     "name": "stderr",
     "output_type": "stream",
     "text": [
      "[nltk_data] Downloading package punkt to /home2/tathagato/nltk_data...\n",
      "[nltk_data]   Package punkt is already up-to-date!\n",
      "[nltk_data] Downloading package averaged_perceptron_tagger to\n",
      "[nltk_data]     /home2/tathagato/nltk_data...\n",
      "[nltk_data]   Package averaged_perceptron_tagger is already up-to-\n",
      "[nltk_data]       date!\n",
      "[nltk_data] Downloading package stopwords to\n",
      "[nltk_data]     /home2/tathagato/nltk_data...\n",
      "[nltk_data]   Package stopwords is already up-to-date!\n"
     ]
    }
   ],
   "source": [
    "import sys\n",
    "sys.path.insert(0,\"/home2/tathagato/summarization/MACSUM/naacl\")\n",
    "from eval import single_sft_evaluation\n",
    "\n"
   ]
  },
  {
   "cell_type": "code",
   "execution_count": 2,
   "metadata": {},
   "outputs": [
    {
     "name": "stderr",
     "output_type": "stream",
     "text": [
      "  0%|          | 0/8 [00:00<?, ?it/s]"
     ]
    },
    {
     "name": "stdout",
     "output_type": "stream",
     "text": [
      "mistral_extractiveness mistral ['extractiveness']\n",
      "evaluating mistral with attributes ['extractiveness']\n",
      "length of data is  547\n",
      "/scratch/tathagato/naacl/single_attribute_sft/mistral_extractiveness/results.pkl is being evaluated on extractiveness\n"
     ]
    },
    {
     "name": "stderr",
     "output_type": "stream",
     "text": [
      "/home2/tathagato/miniconda3/envs/roy/lib/python3.9/site-packages/torch/storage.py:414: FutureWarning: You are using `torch.load` with `weights_only=False` (the current default value), which uses the default pickle module implicitly. It is possible to construct malicious pickle data which will execute arbitrary code during unpickling (See https://github.com/pytorch/pytorch/blob/main/SECURITY.md#untrusted-models for more details). In a future release, the default value for `weights_only` will be flipped to `True`. This limits the functions that could be executed during unpickling. Arbitrary objects will no longer be allowed to be loaded via this mode unless they are explicitly allowlisted by the user via `torch.serialization.add_safe_globals`. We recommend you start setting `weights_only=True` for any use case where you don't have full control of the loaded file. Please open an issue on GitHub for any issues related to this experimental feature.\n",
      "  return torch.load(io.BytesIO(b))\n",
      " 12%|█▎        | 1/8 [00:20<02:21, 20.15s/it]"
     ]
    },
    {
     "name": "stdout",
     "output_type": "stream",
     "text": [
      "extractiveness evaluation\n",
      "--------------overall----------------\n",
      "fragment_density : 2.9875825538094647\n",
      "gold_fragment_density : 3.5740066422781958\n",
      "coverage : 0.8408148400792773\n",
      "gold_coverage : 0.8769379470940913\n",
      "overlap : 0.41077330153300834\n",
      "gold_overlap : 0.4790941100760585\n",
      "f_value : 0.39449032393162653\n",
      "gold_f_value : 0.3290764050111954\n",
      "rouge1 : 0.22975326645729563\n",
      "rouge2 : 0.0589091650689341\n",
      "rouge3 : 0.02037671891261332\n",
      "rougeL : 0.15293488393381385\n",
      "number : 547\n",
      "-------------------------------------------------\n",
      "--------------normal----------------\n",
      "fragment_density : 3.0230327472905745\n",
      "gold_fragment_density : 3.0470808464199073\n",
      "coverage : 0.8376529917704318\n",
      "gold_coverage : 0.866959576381\n",
      "overlap : 0.4088723297360313\n",
      "gold_overlap : 0.44346948972372485\n",
      "f_value : 0.3500997596328743\n",
      "gold_f_value : 0.3265297702300062\n",
      "rouge1 : 0.23528438556699416\n",
      "rouge2 : 0.060746228018462335\n",
      "rouge3 : 0.020555726184294625\n",
      "rougeL : 0.15687768409488642\n",
      "number : 467\n",
      "-------------------------------------------------\n",
      "--------------high----------------\n",
      "fragment_density : 2.9869831217896503\n",
      "gold_fragment_density : 5.795913412523072\n",
      "coverage : 0.8678033721124601\n",
      "gold_coverage : 0.9251531914859265\n",
      "overlap : 0.44353057304736665\n",
      "gold_overlap : 0.6154424686586898\n",
      "f_value : 0.5490566696774377\n",
      "gold_f_value : 0.3722255973855076\n",
      "rouge1 : 0.20351057060790526\n",
      "rouge2 : 0.046594212352986615\n",
      "rouge3 : 0.018488780428212465\n",
      "rougeL : 0.13438779963672104\n",
      "number : 43\n",
      "-------------------------------------------------\n",
      "--------------fully----------------\n",
      "fragment_density : 2.5408402624898327\n",
      "gold_fragment_density : 7.64244868404282\n",
      "coverage : 0.849357442317223\n",
      "gold_coverage : 0.9468472339634081\n",
      "overlap : 0.3966973867781666\n",
      "gold_overlap : 0.770275685359483\n",
      "f_value : 0.7751400715112862\n",
      "gold_f_value : 0.3110727069225446\n",
      "rouge1 : 0.1904398420598513\n",
      "rouge2 : 0.05003442370017883\n",
      "rouge3 : 0.02031144753299358\n",
      "rougeL : 0.12472507175960035\n",
      "number : 37\n",
      "-------------------------------------------------\n",
      "----------------------------------------------------------------------------------------\n",
      "mistral_topic mistral ['topic']\n",
      "evaluating mistral with attributes ['topic']\n",
      "length of data is  266\n",
      "/scratch/tathagato/naacl/single_attribute_sft/mistral_topic/results.pkl is being evaluated on topic\n"
     ]
    },
    {
     "name": "stderr",
     "output_type": "stream",
     "text": [
      " 25%|██▌       | 2/8 [00:20<00:51,  8.61s/it]"
     ]
    },
    {
     "name": "stdout",
     "output_type": "stream",
     "text": [
      "--------------overall----------------\n",
      "rouge1 : 0.22202451611092697\n",
      "rouge2 : 0.06285636281568749\n",
      "rouge3 : 0.024769931863402414\n",
      "rougeL : 0.1496779019138078\n",
      "number : 266\n",
      "-------------------------------------------------\n",
      "mistral_length mistral ['length']\n",
      "evaluating mistral with attributes ['length']\n",
      "length of data is  547\n",
      "/scratch/tathagato/naacl/single_attribute_sft/mistral_length/results.pkl is being evaluated on length\n"
     ]
    },
    {
     "name": "stderr",
     "output_type": "stream",
     "text": [
      " 38%|███▊      | 3/8 [00:24<00:33,  6.64s/it]"
     ]
    },
    {
     "name": "stdout",
     "output_type": "stream",
     "text": [
      "\n",
      "\n",
      "length evaluation\n",
      "--------------overall----------------\n",
      "summary_length : 64.44241316270566\n",
      "gold_summary_length : 55.96160877513711\n",
      "compression_ratio : 0.09122237334379207\n",
      "gold_compression_ratio : 0.073909843888783\n",
      "rouge1 : 0.2273813333360329\n",
      "rouge2 : 0.05758572659205714\n",
      "rouge3 : 0.0195122346337471\n",
      "rougeL : 0.1505583019986567\n",
      "number : 547\n",
      "-------------------------------------------------\n",
      "--------------short----------------\n",
      "summary_length : 37.208\n",
      "gold_summary_length : 34.288\n",
      "compression_ratio : 0.05853891636495598\n",
      "gold_compression_ratio : 0.046553397518622926\n",
      "rouge1 : 0.2240928474837858\n",
      "rouge2 : 0.059253770417986906\n",
      "rouge3 : 0.020618102467523502\n",
      "rougeL : 0.16220143555768446\n",
      "number : 125\n",
      "-------------------------------------------------\n",
      "--------------normal----------------\n",
      "summary_length : 64.06143344709898\n",
      "gold_summary_length : 47.89078498293515\n",
      "compression_ratio : 0.07910751623128151\n",
      "gold_compression_ratio : 0.06213176543009471\n",
      "rouge1 : 0.2181916312765848\n",
      "rouge2 : 0.052369587410521376\n",
      "rouge3 : 0.016965767866189117\n",
      "rougeL : 0.14591477445765366\n",
      "number : 293\n",
      "-------------------------------------------------\n",
      "--------------long----------------\n",
      "summary_length : 91.69767441860465\n",
      "gold_summary_length : 95.29457364341086\n",
      "compression_ratio : 0.1504090807571262\n",
      "gold_compression_ratio : 0.12716978795595882\n",
      "rouge1 : 0.25144058476974745\n",
      "rouge2 : 0.06781691497925685\n",
      "rouge3 : 0.02422449264671173\n",
      "rougeL : 0.1498231227322644\n",
      "number : 129\n",
      "-------------------------------------------------\n",
      "----------------------------------------------------------------------------------------\n",
      "llama_specificity llama ['specificity']\n",
      "evaluating llama with attributes ['specificity']\n",
      "length of data is  547\n",
      "specificity is not supported for evaluation\n",
      "skipping specificity for results.pkl\n",
      "mistral_specificity mistral ['specificity']\n",
      "evaluating mistral with attributes ['specificity']\n",
      "length of data is  547\n",
      "specificity is not supported for evaluation\n",
      "skipping specificity for results.pkl\n",
      "llama_topic llama ['topic']\n",
      "evaluating llama with attributes ['topic']\n",
      "length of data is  266\n",
      "/scratch/tathagato/naacl/single_attribute_sft/llama_topic/results.pkl is being evaluated on topic\n"
     ]
    },
    {
     "name": "stderr",
     "output_type": "stream",
     "text": [
      " 75%|███████▌  | 6/8 [00:25<00:04,  2.37s/it]"
     ]
    },
    {
     "name": "stdout",
     "output_type": "stream",
     "text": [
      "--------------overall----------------\n",
      "rouge1 : 0.283551122023257\n",
      "rouge2 : 0.09422355412377852\n",
      "rouge3 : 0.04247932438602692\n",
      "rougeL : 0.19088838990584622\n",
      "number : 266\n",
      "-------------------------------------------------\n",
      "llama_extractiveness llama ['extractiveness']\n",
      "evaluating llama with attributes ['extractiveness']\n",
      "length of data is  547\n",
      "/scratch/tathagato/naacl/single_attribute_sft/llama_extractiveness/results.pkl is being evaluated on extractiveness\n"
     ]
    },
    {
     "name": "stderr",
     "output_type": "stream",
     "text": [
      " 88%|████████▊ | 7/8 [00:44<00:06,  6.41s/it]"
     ]
    },
    {
     "name": "stdout",
     "output_type": "stream",
     "text": [
      "extractiveness evaluation\n",
      "--------------overall----------------\n",
      "fragment_density : 48.570202271081776\n",
      "gold_fragment_density : 3.5740066422781958\n",
      "coverage : 0.9459911693860179\n",
      "gold_coverage : 0.8769379470940913\n",
      "overlap : 0.7123054807630425\n",
      "gold_overlap : 0.4790941100760585\n",
      "f_value : 0.39449032393162653\n",
      "gold_f_value : 0.6319493833685631\n",
      "rouge1 : 0.26649768417162806\n",
      "rouge2 : 0.09369539468586624\n",
      "rouge3 : 0.04512208501124994\n",
      "rougeL : 0.17680099220687956\n",
      "number : 547\n",
      "-------------------------------------------------\n",
      "--------------normal----------------\n",
      "fragment_density : 42.79093977328265\n",
      "gold_fragment_density : 3.0470808464199073\n",
      "coverage : 0.9446037056483966\n",
      "gold_coverage : 0.866959576381\n",
      "overlap : 0.7042846358180149\n",
      "gold_overlap : 0.44346948972372485\n",
      "f_value : 0.3500997596328743\n",
      "gold_f_value : 0.6252182510486868\n",
      "rouge1 : 0.27920723186185886\n",
      "rouge2 : 0.09812671561571522\n",
      "rouge3 : 0.04693771108899086\n",
      "rougeL : 0.18405040004576154\n",
      "number : 467\n",
      "-------------------------------------------------\n",
      "--------------high----------------\n",
      "fragment_density : 50.77631526831003\n",
      "gold_fragment_density : 5.795913412523072\n",
      "coverage : 0.9321064647309729\n",
      "gold_coverage : 0.9251531914859265\n",
      "overlap : 0.6901417469901948\n",
      "gold_overlap : 0.6154424686586898\n",
      "f_value : 0.5490566696774377\n",
      "gold_f_value : 0.5946835555799967\n",
      "rouge1 : 0.20031565289009004\n",
      "rouge2 : 0.06331470902715404\n",
      "rouge3 : 0.03248449576511359\n",
      "rougeL : 0.13206450255663382\n",
      "number : 43\n",
      "-------------------------------------------------\n",
      "--------------fully----------------\n",
      "fragment_density : 118.95000571949736\n",
      "gold_fragment_density : 7.64244868404282\n",
      "coverage : 0.9796394900788867\n",
      "gold_coverage : 0.9468472339634081\n",
      "overlap : 0.8392994035079179\n",
      "gold_overlap : 0.770275685359483\n",
      "f_value : 0.7751400715112862\n",
      "gold_f_value : 0.760216123592634\n",
      "rouge1 : 0.1829968348140148\n",
      "rouge2 : 0.07307222195843796\n",
      "rouge3 : 0.03689286769446227\n",
      "rougeL : 0.1372927650231684\n",
      "number : 37\n",
      "-------------------------------------------------\n",
      "----------------------------------------------------------------------------------------\n",
      "llama_length llama ['length']\n",
      "evaluating llama with attributes ['length']\n",
      "length of data is  547\n",
      "/scratch/tathagato/naacl/single_attribute_sft/llama_length/results.pkl is being evaluated on length\n"
     ]
    },
    {
     "name": "stderr",
     "output_type": "stream",
     "text": [
      "100%|██████████| 8/8 [00:49<00:00,  6.18s/it]"
     ]
    },
    {
     "name": "stdout",
     "output_type": "stream",
     "text": [
      "\n",
      "\n",
      "length evaluation\n",
      "--------------overall----------------\n",
      "summary_length : 151.08775137111516\n",
      "gold_summary_length : 55.96160877513711\n",
      "compression_ratio : 0.20719104310979297\n",
      "gold_compression_ratio : 0.073909843888783\n",
      "rouge1 : 0.2744624065331432\n",
      "rouge2 : 0.09750155581409155\n",
      "rouge3 : 0.04664405090087028\n",
      "rougeL : 0.1856505047196817\n",
      "number : 547\n",
      "-------------------------------------------------\n",
      "--------------short----------------\n",
      "summary_length : 53.912\n",
      "gold_summary_length : 34.288\n",
      "compression_ratio : 0.06909237140991854\n",
      "gold_compression_ratio : 0.046553397518622926\n",
      "rouge1 : 0.29651271059004813\n",
      "rouge2 : 0.1034509101976828\n",
      "rouge3 : 0.04625060203964738\n",
      "rougeL : 0.21918141884293\n",
      "number : 125\n",
      "-------------------------------------------------\n",
      "--------------normal----------------\n",
      "summary_length : 142.96245733788396\n",
      "gold_summary_length : 47.89078498293515\n",
      "compression_ratio : 0.17384067128132097\n",
      "gold_compression_ratio : 0.06213176543009471\n",
      "rouge1 : 0.25496661102238455\n",
      "rouge2 : 0.08649046378244084\n",
      "rouge3 : 0.040618080429849955\n",
      "rougeL : 0.1733709223762866\n",
      "number : 293\n",
      "-------------------------------------------------\n",
      "--------------long----------------\n",
      "summary_length : 263.70542635658916\n",
      "gold_summary_length : 95.29457364341086\n",
      "compression_ratio : 0.41675687960767355\n",
      "gold_compression_ratio : 0.12716978795595882\n",
      "rouge1 : 0.29737698077763314\n",
      "rouge2 : 0.1167463671887021\n",
      "rouge3 : 0.06071219396801617\n",
      "rougeL : 0.181050143178664\n",
      "number : 129\n",
      "-------------------------------------------------\n",
      "----------------------------------------------------------------------------------------\n"
     ]
    },
    {
     "name": "stderr",
     "output_type": "stream",
     "text": [
      "\n"
     ]
    }
   ],
   "source": [
    "single_sft_directory = \"/scratch/tathagato/naacl/single_attribute_sft\"\n",
    "results = single_sft_evaluation(single_sft_directory)"
   ]
  },
  {
   "cell_type": "code",
   "execution_count": null,
   "metadata": {},
   "outputs": [],
   "source": []
  },
  {
   "cell_type": "code",
   "execution_count": null,
   "metadata": {},
   "outputs": [],
   "source": []
  }
 ],
 "metadata": {
  "kernelspec": {
   "display_name": "roy",
   "language": "python",
   "name": "python3"
  },
  "language_info": {
   "codemirror_mode": {
    "name": "ipython",
    "version": 3
   },
   "file_extension": ".py",
   "mimetype": "text/x-python",
   "name": "python",
   "nbconvert_exporter": "python",
   "pygments_lexer": "ipython3",
   "version": "3.9.19"
  }
 },
 "nbformat": 4,
 "nbformat_minor": 2
}
