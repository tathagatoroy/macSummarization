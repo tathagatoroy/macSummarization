{
 "cells": [
  {
   "cell_type": "code",
   "execution_count": 1,
   "metadata": {},
   "outputs": [
    {
     "name": "stderr",
     "output_type": "stream",
     "text": [
      "[nltk_data] Downloading package punkt to /home2/tathagato/nltk_data...\n",
      "[nltk_data]   Package punkt is already up-to-date!\n",
      "[nltk_data] Downloading package averaged_perceptron_tagger to\n",
      "[nltk_data]     /home2/tathagato/nltk_data...\n",
      "[nltk_data]   Package averaged_perceptron_tagger is already up-to-\n",
      "[nltk_data]       date!\n",
      "[nltk_data] Downloading package stopwords to\n",
      "[nltk_data]     /home2/tathagato/nltk_data...\n",
      "[nltk_data]   Package stopwords is already up-to-date!\n",
      "[nltk_data] Downloading package punkt to /home2/tathagato/nltk_data...\n",
      "[nltk_data]   Package punkt is already up-to-date!\n"
     ]
    },
    {
     "name": "stdout",
     "output_type": "stream",
     "text": [
      "loading brown clusters...\n",
      "done; # words:  247339\n",
      "loading word embeddings...\n",
      "done; # words:  268810\n"
     ]
    }
   ],
   "source": [
    "import sys\n",
    "sys.path.insert(0,\"/home2/tathagato/summarization/MACSUM/naacl\")\n",
    "import os\n",
    "from eval import evaluate\n",
    "import tqdm\n",
    "import traceback\n"
   ]
  },
  {
   "cell_type": "code",
   "execution_count": 17,
   "metadata": {},
   "outputs": [],
   "source": [
    "attributes = ['specificity']\n",
    "arguments = [\n",
    "    [\"/scratch/tathagato/naacl/zero_shot/llama_specificity.pkl\", \"llama\"],\n",
    "    [\"/scratch/tathagato/naacl/zero_shot/mistral_specificity.pkl\", \"mistral\"],\n",
    "    [\"/scratch/tathagato/naacl/single_attribute_sft/llama_specificity/results.pkl\", \"llama\"],\n",
    "    [\"/scratch/tathagato/naacl/single_attribute_sft/mistral_specificity/results.pkl\", \"mistral\"],\n",
    "    [\"/scratch/tathagato/naacl/single_attribute_dpo/llama_specificity/results.pkl\", \"llama\"],\n",
    "    [\"/scratch/tathagato/naacl/single_attribute_dpo/mistral_specificity/results.pkl\", \"mistral\"]\n",
    "\n",
    "\n",
    "]\n",
    "def generate_latex_table_row(model, finetuning, specificity_scores, rouge_scores):\n",
    "    \"\"\"\n",
    "    Generate a LaTeX table row for the given model, finetuning method, specificity scores, and ROUGE scores.\n",
    "    \n",
    "    :param model: str, name of the model\n",
    "    :param finetuning: str, finetuning method\n",
    "    :param specificity_scores: List[float], list of 3 specificity scores [normal, high, overall]\n",
    "    :param rouge_scores: List[List[float]], list of 3 lists, each containing 3 ROUGE scores [R1, R2, RL]\n",
    "    :return: str, formatted LaTeX table row\n",
    "    \"\"\"\n",
    "    # Format specificity scores\n",
    "    spec_str = \" & \".join([f\"{score:.2f}\" for score in specificity_scores])\n",
    "    \n",
    "    # Format ROUGE scores\n",
    "    rouge_str = \" & \".join([\"/\".join([f\"{score:.2f}\" for score in rouge_set]) for rouge_set in rouge_scores])\n",
    "    \n",
    "    # Construct the LaTeX table row\n",
    "    row = f\"\"\"    \\\\multirow{{2}}{{*}}{{{model}}} & \\\\multirow{{2}}{{*}}{{{finetuning}}} \n",
    "        & Specificity          & {spec_str} \\\\\\\\\n",
    "        & & Rouge            & {rouge_str} \\\\\\\\\n",
    "    \\\\midrule\"\"\"\n",
    "    \n",
    "    return row\n",
    "\n",
    "\n"
   ]
  },
  {
   "cell_type": "code",
   "execution_count": 3,
   "metadata": {},
   "outputs": [
    {
     "name": "stderr",
     "output_type": "stream",
     "text": [
      "  0%|          | 0/6 [00:00<?, ?it/s]"
     ]
    },
    {
     "name": "stdout",
     "output_type": "stream",
     "text": [
      "/scratch/tathagato/naacl/zero_shot/llama_specificity.pkl llama\n",
      "evaluating llama with attributes ['specificity']\n",
      "length of data is  547\n",
      "/scratch/tathagato/naacl/zero_shot/llama_specificity.pkl is being evaluated on specificity\n"
     ]
    },
    {
     "name": "stderr",
     "output_type": "stream",
     "text": [
      "/home2/tathagato/miniconda3/envs/roy/lib/python3.9/site-packages/torch/storage.py:414: FutureWarning: You are using `torch.load` with `weights_only=False` (the current default value), which uses the default pickle module implicitly. It is possible to construct malicious pickle data which will execute arbitrary code during unpickling (See https://github.com/pytorch/pytorch/blob/main/SECURITY.md#untrusted-models for more details). In a future release, the default value for `weights_only` will be flipped to `True`. This limits the functions that could be executed during unpickling. Arbitrary objects will no longer be allowed to be loaded via this mode unless they are explicitly allowlisted by the user via `torch.serialization.add_safe_globals`. We recommend you start setting `weights_only=True` for any use case where you don't have full control of the loaded file. Please open an issue on GitHub for any issues related to this experimental feature.\n",
      "  return torch.load(io.BytesIO(b))\n"
     ]
    },
    {
     "name": "stdout",
     "output_type": "stream",
     "text": [
      "Processing strings in parallel...\n",
      "number of strings to process:  547\n",
      "number of cpus:  64\n",
      "size of specificity_scores:  547\n",
      "Processing strings in parallel...\n",
      "number of strings to process:  547\n",
      "number of cpus:  64\n"
     ]
    },
    {
     "name": "stderr",
     "output_type": "stream",
     "text": [
      " 17%|█▋        | 1/6 [00:33<02:45, 33.03s/it]"
     ]
    },
    {
     "name": "stdout",
     "output_type": "stream",
     "text": [
      "size of specificity_scores:  547\n",
      "\n",
      "\n",
      "specificity evaluation\n",
      "--------------overall----------------\n",
      "specificity : 0.5587256260778827\n",
      "gold_specificity : 0.5665536802926033\n",
      "rouge1 : 0.3064712243122392\n",
      "rouge2 : 0.09501384595887392\n",
      "rouge3 : 0.03815136586477705\n",
      "rougeL : 0.19433925404107136\n",
      "number : 547\n",
      "-------------------------------------------------\n",
      "--------------normal----------------\n",
      "specificity : 0.5574397714892023\n",
      "gold_specificity : 0.5699240527997738\n",
      "rouge1 : 0.3153045705796443\n",
      "rouge2 : 0.09888402889157558\n",
      "rouge3 : 0.03970001151440502\n",
      "rougeL : 0.19950787882257207\n",
      "number : 475\n",
      "-------------------------------------------------\n",
      "--------------high----------------\n",
      "specificity : 0.567208694544871\n",
      "gold_specificity : 0.5443185838911315\n",
      "rouge1 : 0.2481956760203307\n",
      "rouge2 : 0.0694813891111894\n",
      "rouge3 : 0.027934606370703576\n",
      "rougeL : 0.16024068777422645\n",
      "number : 72\n",
      "-------------------------------------------------\n",
      "----------------------------------------------------------------------------------------\n",
      "/scratch/tathagato/naacl/zero_shot/mistral_specificity.pkl mistral\n",
      "evaluating mistral with attributes ['specificity']\n",
      "length of data is  547\n",
      "/scratch/tathagato/naacl/zero_shot/mistral_specificity.pkl is being evaluated on specificity\n",
      "Processing strings in parallel...\n",
      "number of strings to process:  547\n",
      "number of cpus:  64\n",
      "size of specificity_scores:  547\n",
      "Processing strings in parallel...\n",
      "number of strings to process:  547\n",
      "number of cpus:  64\n"
     ]
    },
    {
     "name": "stderr",
     "output_type": "stream",
     "text": [
      " 33%|███▎      | 2/6 [01:04<02:09, 32.39s/it]"
     ]
    },
    {
     "name": "stdout",
     "output_type": "stream",
     "text": [
      "size of specificity_scores:  547\n",
      "\n",
      "\n",
      "specificity evaluation\n",
      "--------------overall----------------\n",
      "specificity : 0.784284886106843\n",
      "gold_specificity : 0.5665536802926032\n",
      "rouge1 : 0.22534662016627988\n",
      "rouge2 : 0.07699218416149609\n",
      "rouge3 : 0.033575055633619566\n",
      "rougeL : 0.13899206592319754\n",
      "number : 547\n",
      "-------------------------------------------------\n",
      "--------------normal----------------\n",
      "specificity : 0.7835494450658617\n",
      "gold_specificity : 0.5628447685276953\n",
      "rouge1 : 0.23325464811146138\n",
      "rouge2 : 0.07911306343224468\n",
      "rouge3 : 0.03385725333068848\n",
      "rougeL : 0.14210227651875346\n",
      "number : 475\n",
      "-------------------------------------------------\n",
      "--------------high----------------\n",
      "specificity : 0.7891367540855391\n",
      "gold_specificity : 0.5910221954083161\n",
      "rouge1 : 0.17317560247237404\n",
      "rouge2 : 0.06300027230586312\n",
      "rouge3 : 0.031713334715456544\n",
      "rougeL : 0.1184733154664052\n",
      "number : 72\n",
      "-------------------------------------------------\n",
      "----------------------------------------------------------------------------------------\n",
      "/scratch/tathagato/naacl/single_attribute_sft/llama_specificity/results.pkl llama\n",
      "evaluating llama with attributes ['specificity']\n",
      "length of data is  547\n",
      "/scratch/tathagato/naacl/single_attribute_sft/llama_specificity/results.pkl is being evaluated on specificity\n",
      "Processing strings in parallel...\n",
      "number of strings to process:  547\n",
      "number of cpus:  64\n",
      "size of specificity_scores:  547\n",
      "Processing strings in parallel...\n",
      "number of strings to process:  547\n",
      "number of cpus:  64\n"
     ]
    },
    {
     "name": "stderr",
     "output_type": "stream",
     "text": [
      " 50%|█████     | 3/6 [01:37<01:37, 32.37s/it]"
     ]
    },
    {
     "name": "stdout",
     "output_type": "stream",
     "text": [
      "size of specificity_scores:  547\n",
      "\n",
      "\n",
      "specificity evaluation\n",
      "--------------overall----------------\n",
      "specificity : 0.523666278384849\n",
      "gold_specificity : 0.5665536802926032\n",
      "rouge1 : 0.2695481852142047\n",
      "rouge2 : 0.09327034518609538\n",
      "rouge3 : 0.04266799929857633\n",
      "rougeL : 0.17991355704159467\n",
      "number : 547\n",
      "-------------------------------------------------\n",
      "--------------normal----------------\n",
      "specificity : 0.5226295776763137\n",
      "gold_specificity : 0.5686738950146347\n",
      "rouge1 : 0.2782525908691836\n",
      "rouge2 : 0.09689834568052684\n",
      "rouge3 : 0.044180769884214745\n",
      "rougeL : 0.18560820485770693\n",
      "number : 475\n",
      "-------------------------------------------------\n",
      "--------------high----------------\n",
      "specificity : 0.530505623336992\n",
      "gold_specificity : 0.552566152612535\n",
      "rouge1 : 0.21212328679594122\n",
      "rouge2 : 0.06933561970199888\n",
      "rouge3 : 0.03268791557387842\n",
      "rougeL : 0.1423446999214097\n",
      "number : 72\n",
      "-------------------------------------------------\n",
      "----------------------------------------------------------------------------------------\n",
      "/scratch/tathagato/naacl/single_attribute_sft/mistral_specificity/results.pkl mistral\n",
      "evaluating mistral with attributes ['specificity']\n",
      "length of data is  547\n",
      "/scratch/tathagato/naacl/single_attribute_sft/mistral_specificity/results.pkl is being evaluated on specificity\n",
      "Processing strings in parallel...\n",
      "number of strings to process:  547\n",
      "number of cpus:  64\n",
      "size of specificity_scores:  547\n",
      "Processing strings in parallel...\n",
      "number of strings to process:  547\n",
      "number of cpus:  64\n"
     ]
    },
    {
     "name": "stderr",
     "output_type": "stream",
     "text": [
      " 67%|██████▋   | 4/6 [02:09<01:04, 32.42s/it]"
     ]
    },
    {
     "name": "stdout",
     "output_type": "stream",
     "text": [
      "size of specificity_scores:  547\n",
      "\n",
      "\n",
      "specificity evaluation\n",
      "--------------overall----------------\n",
      "specificity : 0.705646323815559\n",
      "gold_specificity : 0.5665536802926033\n",
      "rouge1 : 0.23875867408043183\n",
      "rouge2 : 0.06057164800554767\n",
      "rouge3 : 0.02065204847848296\n",
      "rougeL : 0.1578728175724766\n",
      "number : 547\n",
      "-------------------------------------------------\n",
      "--------------normal----------------\n",
      "specificity : 0.6979462164494399\n",
      "gold_specificity : 0.5660989573211797\n",
      "rouge1 : 0.24149259735100798\n",
      "rouge2 : 0.06162771560262628\n",
      "rouge3 : 0.02092989870492228\n",
      "rougeL : 0.15975488799248194\n",
      "number : 475\n",
      "-------------------------------------------------\n",
      "--------------high----------------\n",
      "specificity : 0.756445643244818\n",
      "gold_specificity : 0.5695535887846337\n",
      "rouge1 : 0.22072237472593645\n",
      "rouge2 : 0.05360453538593179\n",
      "rouge3 : 0.018819008790168026\n",
      "rougeL : 0.14545638077383016\n",
      "number : 72\n",
      "-------------------------------------------------\n",
      "----------------------------------------------------------------------------------------\n",
      "/scratch/tathagato/naacl/single_attribute_dpo/llama_specificity/results.pkl llama\n",
      "evaluating llama with attributes ['specificity']\n",
      "length of data is  547\n",
      "/scratch/tathagato/naacl/single_attribute_dpo/llama_specificity/results.pkl is being evaluated on specificity\n",
      "Processing strings in parallel...\n",
      "number of strings to process:  547\n",
      "number of cpus:  64\n",
      "size of specificity_scores:  547\n",
      "Processing strings in parallel...\n",
      "number of strings to process:  547\n",
      "number of cpus:  64\n"
     ]
    },
    {
     "name": "stderr",
     "output_type": "stream",
     "text": [
      " 83%|████████▎ | 5/6 [02:41<00:32, 32.19s/it]"
     ]
    },
    {
     "name": "stdout",
     "output_type": "stream",
     "text": [
      "size of specificity_scores:  547\n",
      "\n",
      "\n",
      "specificity evaluation\n",
      "--------------overall----------------\n",
      "specificity : 0.558181544756845\n",
      "gold_specificity : 0.5665536802926033\n",
      "rouge1 : 0.30700436567427564\n",
      "rouge2 : 0.09568169557119166\n",
      "rouge3 : 0.03883731419671214\n",
      "rougeL : 0.1944562034556852\n",
      "number : 547\n",
      "-------------------------------------------------\n",
      "--------------normal----------------\n",
      "specificity : 0.5557749929390079\n",
      "gold_specificity : 0.5617755622771589\n",
      "rouge1 : 0.3153220502778399\n",
      "rouge2 : 0.09892010991451679\n",
      "rouge3 : 0.039976467765564246\n",
      "rougeL : 0.19923408918332858\n",
      "number : 475\n",
      "-------------------------------------------------\n",
      "--------------high----------------\n",
      "specificity : 0.5740581018884102\n",
      "gold_specificity : 0.598075986644494\n",
      "rouge1 : 0.252130751970206\n",
      "rouge2 : 0.0743171565006439\n",
      "rouge3 : 0.03132206495775731\n",
      "rougeL : 0.16293542955803794\n",
      "number : 72\n",
      "-------------------------------------------------\n",
      "----------------------------------------------------------------------------------------\n",
      "/scratch/tathagato/naacl/single_attribute_dpo/mistral_specificity/results.pkl mistral\n",
      "evaluating mistral with attributes ['specificity']\n",
      "length of data is  547\n",
      "/scratch/tathagato/naacl/single_attribute_dpo/mistral_specificity/results.pkl is being evaluated on specificity\n",
      "Processing strings in parallel...\n",
      "number of strings to process:  547\n",
      "number of cpus:  64\n",
      "size of specificity_scores:  547\n",
      "Processing strings in parallel...\n",
      "number of strings to process:  547\n",
      "number of cpus:  64\n"
     ]
    },
    {
     "name": "stderr",
     "output_type": "stream",
     "text": [
      "100%|██████████| 6/6 [03:12<00:00, 32.09s/it]"
     ]
    },
    {
     "name": "stdout",
     "output_type": "stream",
     "text": [
      "size of specificity_scores:  547\n",
      "\n",
      "\n",
      "specificity evaluation\n",
      "--------------overall----------------\n",
      "specificity : 0.7692228706472163\n",
      "gold_specificity : 0.5665536802926032\n",
      "rouge1 : 0.22497745750927892\n",
      "rouge2 : 0.07671272525136069\n",
      "rouge3 : 0.032539540623008754\n",
      "rougeL : 0.13889251479008588\n",
      "number : 547\n",
      "-------------------------------------------------\n",
      "--------------normal----------------\n",
      "specificity : 0.7678889939714292\n",
      "gold_specificity : 0.5679899999624575\n",
      "rouge1 : 0.23315791866030072\n",
      "rouge2 : 0.07918081288360745\n",
      "rouge3 : 0.033303310953834805\n",
      "rougeL : 0.14224357719217387\n",
      "number : 475\n",
      "-------------------------------------------------\n",
      "--------------high----------------\n",
      "specificity : 0.7780227514944223\n",
      "gold_specificity : 0.5570779602484266\n",
      "rouge1 : 0.1710091374157322\n",
      "rouge2 : 0.06043020267751057\n",
      "rouge3 : 0.0275007780238091\n",
      "rougeL : 0.11678481144297741\n",
      "number : 72\n",
      "-------------------------------------------------\n",
      "----------------------------------------------------------------------------------------\n"
     ]
    },
    {
     "name": "stderr",
     "output_type": "stream",
     "text": [
      "\n"
     ]
    }
   ],
   "source": [
    "final_res = {}\n",
    "for file, model in tqdm.tqdm(arguments):\n",
    "    print(file, model)\n",
    "    try:\n",
    "        res = evaluate(file, model=model, attributes=attributes)\n",
    "        final_res[file] = {\"result\": res, \"model\": model}\n",
    "    except Exception as e:\n",
    "        print(f\"Error evaluating {file}: {e}\")\n",
    "        traceback.print_exc()\n",
    "\n",
    "        res = None\n",
    "    \n"
   ]
  },
  {
   "cell_type": "code",
   "execution_count": 4,
   "metadata": {},
   "outputs": [
    {
     "name": "stdout",
     "output_type": "stream",
     "text": [
      "6\n"
     ]
    }
   ],
   "source": [
    "print(len(final_res.keys()))"
   ]
  },
  {
   "cell_type": "code",
   "execution_count": 14,
   "metadata": {},
   "outputs": [
    {
     "name": "stdout",
     "output_type": "stream",
     "text": [
      "/scratch/tathagato/naacl/zero_shot/llama_specificity.pkl\n",
      "{'specificity': 0.5574397714892023, 'gold_specificity': 0.5699240527997738, 'rouge1': 0.3153045705796443, 'rouge2': 0.09888402889157558, 'rouge3': 0.03970001151440502, 'rougeL': 0.19950787882257207, 'number': 475}\n"
     ]
    }
   ],
   "source": [
    "keys = final_res.keys()\n",
    "for key in keys:\n",
    "    print(key)\n",
    "    print(final_res[key]['result']['specificity']['normal'])\n",
    "    break"
   ]
  },
  {
   "cell_type": "code",
   "execution_count": 22,
   "metadata": {},
   "outputs": [
    {
     "name": "stdout",
     "output_type": "stream",
     "text": [
      "    \\multirow{2}{*}{Llama-3.1-Storm-8B} & \\multirow{2}{*}{Zero Shot} \n",
      "        & Specificity          & 0.56 & 0.57 & 0.56 \\\\\n",
      "        & & Rouge            & 0.32/0.25/0.31 & 0.10/0.07/0.10 & 0.20/0.16/0.19 \\\\\n",
      "    \\midrule\n",
      "    \\multirow{2}{*}{Mistral-7B-Instruct-v0.3} & \\multirow{2}{*}{Zero Shot} \n",
      "        & Specificity          & 0.78 & 0.79 & 0.78 \\\\\n",
      "        & & Rouge            & 0.23/0.17/0.23 & 0.08/0.06/0.08 & 0.14/0.12/0.14 \\\\\n",
      "    \\midrule\n",
      "    \\multirow{2}{*}{Llama-3.1-Storm-8B} & \\multirow{2}{*}{SFT} \n",
      "        & Specificity          & 0.52 & 0.53 & 0.52 \\\\\n",
      "        & & Rouge            & 0.28/0.21/0.27 & 0.10/0.07/0.09 & 0.19/0.14/0.18 \\\\\n",
      "    \\midrule\n",
      "    \\multirow{2}{*}{Mistral-7B-Instruct-v0.3} & \\multirow{2}{*}{SFT} \n",
      "        & Specificity          & 0.70 & 0.76 & 0.71 \\\\\n",
      "        & & Rouge            & 0.24/0.22/0.24 & 0.06/0.05/0.06 & 0.16/0.15/0.16 \\\\\n",
      "    \\midrule\n",
      "    \\multirow{2}{*}{Llama-3.1-Storm-8B} & \\multirow{2}{*}{DPO} \n",
      "        & Specificity          & 0.56 & 0.57 & 0.56 \\\\\n",
      "        & & Rouge            & 0.32/0.25/0.31 & 0.10/0.07/0.10 & 0.20/0.16/0.19 \\\\\n",
      "    \\midrule\n",
      "    \\multirow{2}{*}{Mistral-7B-Instruct-v0.3} & \\multirow{2}{*}{DPO} \n",
      "        & Specificity          & 0.77 & 0.78 & 0.77 \\\\\n",
      "        & & Rouge            & 0.23/0.17/0.22 & 0.08/0.06/0.08 & 0.14/0.12/0.14 \\\\\n",
      "    \\midrule\n"
     ]
    }
   ],
   "source": [
    "for file in final_res:\n",
    "    metrics = ['specificity']\n",
    "    rouge_keys = ['rouge1', 'rouge2', 'rougeL']\n",
    "    overall_keys = ['normal', 'high', 'overall']\n",
    "    if \"llama\" in file:\n",
    "        model = \"Llama-3.1-Storm-8B\"\n",
    "    else:\n",
    "        model = \"Mistral-7B-Instruct-v0.3\"\n",
    "    if \"zero_shot\" in file:\n",
    "        finetuning = \"Zero Shot\"\n",
    "    elif \"sft\" in file:\n",
    "        finetuning = \"SFT\"\n",
    "    else:\n",
    "        finetuning = \"DPO\"\n",
    "    specificity_scores = []\n",
    "    for metric in metrics:\n",
    "        for key in overall_keys:\n",
    "            specificity_scores.append(final_res[file]['result']['specificity'][key][metric])\n",
    "    rouge_data = []\n",
    "    for rouge_key in rouge_keys:\n",
    "        rouge_scores = []\n",
    "        for key in overall_keys:\n",
    "            rouge_scores.append(final_res[file]['result']['specificity'][key][rouge_key])\n",
    "        rouge_data.append(rouge_scores)\n",
    "    \n",
    "    #print(model, finetuning, specificity_scores, rouge_data)   \n",
    "    print(generate_latex_table_row(model, finetuning, specificity_scores, rouge_data))"
   ]
  },
  {
   "cell_type": "code",
   "execution_count": null,
   "metadata": {},
   "outputs": [],
   "source": []
  }
 ],
 "metadata": {
  "kernelspec": {
   "display_name": "roy",
   "language": "python",
   "name": "python3"
  },
  "language_info": {
   "codemirror_mode": {
    "name": "ipython",
    "version": 3
   },
   "file_extension": ".py",
   "mimetype": "text/x-python",
   "name": "python",
   "nbconvert_exporter": "python",
   "pygments_lexer": "ipython3",
   "version": "3.9.19"
  }
 },
 "nbformat": 4,
 "nbformat_minor": 2
}
